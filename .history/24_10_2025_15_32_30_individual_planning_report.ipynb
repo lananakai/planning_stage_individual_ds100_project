{
 "cells": [
  {
   "cell_type": "markdown",
   "id": "e274fbf0-41fa-49c9-9372-8bf451271128",
   "metadata": {},
   "source": [
    "**(1) Data Description:**\n",
    "\n",
    "***Players.csv:***\n",
    "196 observations x 7 variables  \n",
    "VARIABLES:\n",
    "- experience (chr): pro, veteran, or amateur\n",
    "- subscribe (lgl): whether the individual is subscribed or not\n",
    "- hashedEmail (chr): individual's encrypted email address\n",
    "- played_hours (dbl): hours individual has played\n",
    "- name (chr): name of individual\n",
    "- gender (chr): Male, Female, non-binary, Agender, prefer not to say, or other\n",
    "- age (dbl): age of individual\n",
    "\n",
    "***Sessions.csv:***\n",
    "1535 observations x 5 variables  \n",
    "VARIABLES:\n",
    "- hashedEmail (chr): individual's encrypted email address\n",
    "- start_time (chr): when the individual started their playing session\n",
    "- end_time (chr): when the individual started their playing session\n",
    "- original_start_time (dbl)\n",
    "- original_end_time (dbl)\n",
    "\n",
    "This data is not tidy, as the start_time and end_time variables include values for both the date and the time.\n"
   ]
  },
  {
   "cell_type": "markdown",
   "id": "ca4812cf-f227-44f8-8051-00876062395a",
   "metadata": {},
   "source": [
    "**(2) Questions:**  \n",
    "\n",
    "Can players' session start and end times from the session data set predict what time windows are most likely to have the largest number of simultaneous players?\n",
    "\n",
    "In order to address this question we can wrangle the data so that we can pull specific times in the day that people play the game from the data set, and use that information to create a visualization that will help us determine what time of day, on average, has the greatest volume of platers.\n"
   ]
  },
  {
   "cell_type": "markdown",
   "id": "ff88ca0f-267f-4265-8cc7-457307bdbae3",
   "metadata": {},
   "source": [
    "**(3) Exploratory Data Analysis and Visualization**"
   ]
  },
  {
   "cell_type": "code",
   "execution_count": null,
   "id": "5d9549e8-eb55-421b-8bf7-809905daae3e",
   "metadata": {},
   "outputs": [],
   "source": [
    "library(tidyverse)\n",
    "library(repr)\n",
    "source(\"cleanup.R\")\n",
    "options(repr.matrix.max.rows = 6)"
   ]
  },
  {
   "cell_type": "code",
   "execution_count": null,
   "id": "f387d256-9673-42d5-aa85-45e5bea8192d",
   "metadata": {},
   "outputs": [],
   "source": [
    "players_data <- read_csv(\"data/players.csv\")\n",
    "sessions_data <- read_csv(\"data/sessions.csv\")\n",
    "\n",
    "players_data\n",
    "sessions_data <- sessions_data |>\n",
    "    "
   ]
  },
  {
   "cell_type": "code",
   "execution_count": null,
   "id": "1c8dc42d-5e29-4649-bfa1-58cc306dee3d",
   "metadata": {},
   "outputs": [],
   "source": []
  }
 ],
 "metadata": {
  "kernelspec": {
   "display_name": "R",
   "language": "R",
   "name": "ir"
  },
  "language_info": {
   "codemirror_mode": "r",
   "file_extension": ".r",
   "mimetype": "text/x-r-source",
   "name": "R",
   "pygments_lexer": "r",
   "version": "4.3.3"
  }
 },
 "nbformat": 4,
 "nbformat_minor": 5
}
