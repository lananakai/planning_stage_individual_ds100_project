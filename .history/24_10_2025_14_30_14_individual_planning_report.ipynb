{
 "cells": [
  {
   "cell_type": "markdown",
   "id": "e274fbf0-41fa-49c9-9372-8bf451271128",
   "metadata": {},
   "source": [
    "**(1) Data Description:**\n",
    "\n",
    "Players.csv:\n",
    "*7 variables*\n",
    "- experience: pro, veteran, or amateur\n",
    "- subscribe: whether they are subscribed or not\n",
    "- hashedEmail\n",
    "- played_hours\n",
    "- name\n",
    "- gender\n",
    "- age\n",
    "\n",
    "Sessions.csv:\n",
    "*5 variables*\n",
    "- hashedEmail\n",
    "- start_time: when the individual started their playing session\n",
    "- end_time: when the individual started their playing session\n",
    "- original_start_time\n",
    "- original_end_time\n"
   ]
  },
  {
   "cell_type": "markdown",
   "id": "ca4812cf-f227-44f8-8051-00876062395a",
   "metadata": {},
   "source": [
    "**(2) Questions:**"
   ]
  },
  {
   "cell_type": "code",
   "execution_count": null,
   "id": "b753d053-abf8-4f42-9c39-ec35cd5738d0",
   "metadata": {},
   "outputs": [],
   "source": [
    "**(3) Exploratory Data Analysis and Visualization**"
   ]
  },
  {
   "cell_type": "code",
   "execution_count": null,
   "id": "5d9549e8-eb55-421b-8bf7-809905daae3e",
   "metadata": {},
   "outputs": [],
   "source": [
    "library(tidyverse)\n",
    "library(repr)\n",
    "source(\"cleanup.R\")\n",
    "options(repr.matrix.max.rows = 6)"
   ]
  },
  {
   "cell_type": "code",
   "execution_count": null,
   "id": "f387d256-9673-42d5-aa85-45e5bea8192d",
   "metadata": {},
   "outputs": [],
   "source": []
  }
 ],
 "metadata": {
  "kernelspec": {
   "display_name": "R",
   "language": "R",
   "name": "ir"
  },
  "language_info": {
   "codemirror_mode": "r",
   "file_extension": ".r",
   "mimetype": "text/x-r-source",
   "name": "R",
   "pygments_lexer": "r",
   "version": "4.3.3"
  }
 },
 "nbformat": 4,
 "nbformat_minor": 5
}
