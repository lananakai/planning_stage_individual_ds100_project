{
 "cells": [
  {
   "cell_type": "markdown",
   "id": "e274fbf0-41fa-49c9-9372-8bf451271128",
   "metadata": {},
   "source": [
    "**(1) Data Description:**\n",
    "\n",
    "*Players.csv:*\n",
    "196 observations x 7 variables  \n",
    "VARIABLES:\n",
    "- experience: pro, veteran, or amateur\n",
    "- subscribe: whether they are subscribed or not\n",
    "- hashedEmail\n",
    "- played_hours\n",
    "- name\n",
    "- gender\n",
    "- age\n",
    "\n",
    "*Sessions.csv:*\n",
    "1535 observations x 5 variables  \n",
    "VARIABLES:\n",
    "- hashedEmail\n",
    "- start_time: when the individual started their playing session\n",
    "- end_time: when the individual started their playing session\n",
    "- original_start_time\n",
    "- original_end_time\n"
   ]
  },
  {
   "cell_type": "markdown",
   "id": "ca4812cf-f227-44f8-8051-00876062395a",
   "metadata": {},
   "source": [
    "**(2) Questions:**\n",
    "Can players' the start and end times predict what time windows are most likely to have the highest volumes of simultaneous players in the session data set?\n",
    "\n",
    "Describe clearly how the data will help you address the question of interest. You may need to describe how you plan to wrangle your data to get it into a form where you can apply one of the predictive methods from this class.\n",
    "\n"
   ]
  },
  {
   "cell_type": "markdown",
   "id": "ff88ca0f-267f-4265-8cc7-457307bdbae3",
   "metadata": {},
   "source": [
    "**(3) Exploratory Data Analysis and Visualization**"
   ]
  },
  {
   "cell_type": "code",
   "execution_count": null,
   "id": "5d9549e8-eb55-421b-8bf7-809905daae3e",
   "metadata": {},
   "outputs": [],
   "source": [
    "library(tidyverse)\n",
    "library(repr)\n",
    "source(\"cleanup.R\")\n",
    "options(repr.matrix.max.rows = 6)"
   ]
  },
  {
   "cell_type": "code",
   "execution_count": null,
   "id": "f387d256-9673-42d5-aa85-45e5bea8192d",
   "metadata": {},
   "outputs": [],
   "source": [
    "players_data <- read_csv(\"data/players.csv\")\n",
    "sessions_data <- read_csv(\"data/sessions.csv\")\n",
    "\n",
    "players_data\n",
    "sessions_data"
   ]
  },
  {
   "cell_type": "code",
   "execution_count": null,
   "id": "1c8dc42d-5e29-4649-bfa1-58cc306dee3d",
   "metadata": {},
   "outputs": [],
   "source": []
  }
 ],
 "metadata": {
  "kernelspec": {
   "display_name": "R",
   "language": "R",
   "name": "ir"
  },
  "language_info": {
   "codemirror_mode": "r",
   "file_extension": ".r",
   "mimetype": "text/x-r-source",
   "name": "R",
   "pygments_lexer": "r",
   "version": "4.3.3"
  }
 },
 "nbformat": 4,
 "nbformat_minor": 5
}
