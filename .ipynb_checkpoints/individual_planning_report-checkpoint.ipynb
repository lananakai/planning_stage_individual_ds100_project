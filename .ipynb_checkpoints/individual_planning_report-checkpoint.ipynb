{
 "cells": [
  {
   "cell_type": "markdown",
   "id": "e274fbf0-41fa-49c9-9372-8bf451271128",
   "metadata": {},
   "source": [
    "**(1) Data Description:**\n",
    "\n",
    "Players.csv:\n",
    "*7 variables*\n",
    "- experience: pro, veteran, or amateur\n",
    "- subscribe: whether they are subscribed or not\n",
    "- hashedEmail\n",
    "- played_hours\n",
    "- name\n",
    "- gender\n",
    "- age\n",
    "\n",
    "Sessions.csv:\n",
    "*5 variables*\n",
    "- hashedEmail\n",
    "- start_time: when the individual started their playing session\n",
    "- end_time: when the individual started their playing session\n",
    "- original_start_time\n",
    "- original_end_time\n"
   ]
  },
  {
   "cell_type": "code",
   "execution_count": 1,
   "id": "5d9549e8-eb55-421b-8bf7-809905daae3e",
   "metadata": {},
   "outputs": [
    {
     "name": "stderr",
     "output_type": "stream",
     "text": [
      "── \u001b[1mAttaching core tidyverse packages\u001b[22m ──────────────────────── tidyverse 2.0.0 ──\n",
      "\u001b[32m✔\u001b[39m \u001b[34mdplyr    \u001b[39m 1.1.4     \u001b[32m✔\u001b[39m \u001b[34mreadr    \u001b[39m 2.1.5\n",
      "\u001b[32m✔\u001b[39m \u001b[34mforcats  \u001b[39m 1.0.0     \u001b[32m✔\u001b[39m \u001b[34mstringr  \u001b[39m 1.5.1\n",
      "\u001b[32m✔\u001b[39m \u001b[34mggplot2  \u001b[39m 3.5.1     \u001b[32m✔\u001b[39m \u001b[34mtibble   \u001b[39m 3.2.1\n",
      "\u001b[32m✔\u001b[39m \u001b[34mlubridate\u001b[39m 1.9.3     \u001b[32m✔\u001b[39m \u001b[34mtidyr    \u001b[39m 1.3.1\n",
      "\u001b[32m✔\u001b[39m \u001b[34mpurrr    \u001b[39m 1.0.2     \n",
      "── \u001b[1mConflicts\u001b[22m ────────────────────────────────────────── tidyverse_conflicts() ──\n",
      "\u001b[31m✖\u001b[39m \u001b[34mdplyr\u001b[39m::\u001b[32mfilter()\u001b[39m masks \u001b[34mstats\u001b[39m::filter()\n",
      "\u001b[31m✖\u001b[39m \u001b[34mdplyr\u001b[39m::\u001b[32mlag()\u001b[39m    masks \u001b[34mstats\u001b[39m::lag()\n",
      "\u001b[36mℹ\u001b[39m Use the conflicted package (\u001b[3m\u001b[34m<http://conflicted.r-lib.org/>\u001b[39m\u001b[23m) to force all conflicts to become errors\n",
      "Warning message in file(filename, \"r\", encoding = encoding):\n",
      "“cannot open file 'cleanup.R': No such file or directory”\n"
     ]
    },
    {
     "ename": "ERROR",
     "evalue": "Error in file(filename, \"r\", encoding = encoding): cannot open the connection\n",
     "output_type": "error",
     "traceback": [
      "Error in file(filename, \"r\", encoding = encoding): cannot open the connection\nTraceback:\n",
      "1. source(\"cleanup.R\")",
      "2. file(filename, \"r\", encoding = encoding)"
     ]
    }
   ],
   "source": [
    "library(tidyverse)\n",
    "library(repr)\n",
    "source(\"cleanup.R\")\n",
    "options(repr.matrix.max.rows = 6)"
   ]
  },
  {
   "cell_type": "code",
   "execution_count": null,
   "id": "f387d256-9673-42d5-aa85-45e5bea8192d",
   "metadata": {},
   "outputs": [],
   "source": []
  }
 ],
 "metadata": {
  "kernelspec": {
   "display_name": "R",
   "language": "R",
   "name": "ir"
  },
  "language_info": {
   "codemirror_mode": "r",
   "file_extension": ".r",
   "mimetype": "text/x-r-source",
   "name": "R",
   "pygments_lexer": "r",
   "version": "4.3.3"
  }
 },
 "nbformat": 4,
 "nbformat_minor": 5
}
